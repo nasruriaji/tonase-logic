{
  "nbformat": 4,
  "nbformat_minor": 0,
  "metadata": {
    "colab": {
      "name": "Tonase Logic Test.ipynb",
      "provenance": [],
      "include_colab_link": true
    },
    "kernelspec": {
      "name": "python3",
      "display_name": "Python 3"
    }
  },
  "cells": [
    {
      "cell_type": "markdown",
      "metadata": {
        "id": "view-in-github",
        "colab_type": "text"
      },
      "source": [
        "<a href=\"https://colab.research.google.com/github/nasruriaji/tonase-logic/blob/master/Tonase_Logic_Test.ipynb\" target=\"_parent\"><img src=\"https://colab.research.google.com/assets/colab-badge.svg\" alt=\"Open In Colab\"/></a>"
      ]
    },
    {
      "cell_type": "markdown",
      "metadata": {
        "id": "PDcvdfHgSB99",
        "colab_type": "text"
      },
      "source": [
        "1. Given an array of numbers and a number k, determine if there are three entries in the array which add up to the specified number k. For example, given `[20, 303, 3, 4, 25]` and `k = 49`, **return true** as `20 + 4 + 25 = 49`."
      ]
    },
    {
      "cell_type": "code",
      "metadata": {
        "id": "kuGtOqeTSBTT",
        "colab_type": "code",
        "outputId": "37145857-3fb5-441b-df87-fcf23f9b9fd0",
        "colab": {
          "base_uri": "https://localhost:8080/",
          "height": 34
        }
      },
      "source": [
        "### if output needs 3 arrays, example [20+4+25] = 49\n",
        "def add(num, k):\n",
        "  for i in range(len(num)):\n",
        "    for j in range(len(num)):\n",
        "      if num[i] + num[j] == k:\n",
        "        return True\n",
        "      for l in range(len(num)):\n",
        "              if num[i] + num[j] + num[l] == k:\n",
        "                return True\n",
        "    return False\n",
        "\n",
        "nums = [20, 303, 3, 4, 25]\n",
        "k =  49\n",
        "print(add(nums, k))"
      ],
      "execution_count": 0,
      "outputs": [
        {
          "output_type": "stream",
          "text": [
            "True\n"
          ],
          "name": "stdout"
        }
      ]
    },
    {
      "cell_type": "code",
      "metadata": {
        "id": "KDhH5u3BSwB1",
        "colab_type": "code",
        "outputId": "046b4c17-7505-498b-cffe-b1b288b20e3b",
        "colab": {
          "base_uri": "https://localhost:8080/",
          "height": 34
        }
      },
      "source": [
        "### if output needs 2 arrays, example [3+25] = 28\n",
        "def add(num, k):\n",
        "  for i in range(len(num)):\n",
        "    for j in range(len(num)):\n",
        "      if num[i] + num[j] == k:\n",
        "        return True\n",
        "      for l in range(len(num)):\n",
        "              if num[i] + num[j] + num[l] == k:\n",
        "                return True\n",
        "    return False\n",
        "\n",
        "nums = [20, 303, 3, 4, 25]\n",
        "k =  28\n",
        "print(add(nums, k))"
      ],
      "execution_count": 0,
      "outputs": [
        {
          "output_type": "stream",
          "text": [
            "True\n"
          ],
          "name": "stdout"
        }
      ]
    },
    {
      "cell_type": "markdown",
      "metadata": {
        "id": "DBHl7IyBSgg4",
        "colab_type": "text"
      },
      "source": [
        "2. Given an array of integers, return a new array such that each element at index i of the new array is the product of all the numbers in the original array except the one at i.\n",
        "For example, if our `input was [1, 2, 3, 4, 5]`, the **expected output** would be `[120, 60, 40, 30, 24]`. If our `input was [3, 2, 1]`, the **expected output** would be `[2, 3, 6]`."
      ]
    },
    {
      "cell_type": "code",
      "metadata": {
        "id": "1AO_TO9IStBE",
        "colab_type": "code",
        "outputId": "adc64d08-aa47-4b77-f023-65e920b13461",
        "colab": {
          "base_uri": "https://localhost:8080/",
          "height": 51
        }
      },
      "source": [
        " def product(arr, n): \n",
        "\tif n == 1: \n",
        "\t\tprint(0) \n",
        "\t\treturn\n",
        "\ti, temp = 1, 1\n",
        "\tprod = [1 for i in range(n)] \n",
        "\tfor i in range(n): \n",
        "\t\tprod[i] = temp \n",
        "\t\ttemp *= arr[i] \n",
        "\ttemp = 1\n",
        "\tfor i in range(n - 1, -1, -1): \n",
        "\t\tprod[i] *= temp \n",
        "\t\ttemp *= arr[i] \n",
        "\tfor i in range(n): \n",
        "\t\tprint(prod[i], end = \" \") \n",
        "\n",
        "\treturn\n",
        "# array\n",
        "arr = [1,2,3,4,5] \n",
        "n = len(arr) \n",
        "print(\"Expected output: \") \n",
        "product(arr, n) \n",
        "\n"
      ],
      "execution_count": 7,
      "outputs": [
        {
          "output_type": "stream",
          "text": [
            "Expected output: \n",
            "120 60 40 30 24 "
          ],
          "name": "stdout"
        }
      ]
    }
  ]
}